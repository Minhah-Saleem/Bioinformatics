{
  "nbformat": 4,
  "nbformat_minor": 0,
  "metadata": {
    "colab": {
      "provenance": []
    },
    "kernelspec": {
      "name": "python3",
      "display_name": "Python 3"
    },
    "language_info": {
      "name": "python"
    }
  },
  "cells": [
    {
      "cell_type": "code",
      "source": [
        "# Python program to find Burrows-Wheeler Transform of a given text\n",
        "# Compares the rotations and sorts the rotations alphabetically\n",
        "\n",
        "\n",
        "def cmp_func(x, y):\n",
        "\treturn (x[1] > y[1]) - (x[1] < y[1])\n",
        "\n",
        "# Takes text to be transformed and its length as arguments\n",
        "# and returns the corresponding suffix array\n",
        "\n",
        "\n",
        "def compute_suffix_array(input_text, len_text):\n",
        "\t# Array of structures to store rotations and their indexes\n",
        "\tsuff = [(i, input_text[i:]) for i in range(len_text)]\n",
        "\n",
        "\t# Sorts rotations using comparison function defined above\n",
        "\tsuff.sort(key=lambda x: x[1])\n",
        "\n",
        "\t# Stores the indexes of sorted rotations\n",
        "\tsuffix_arr = [i for i, _ in suff]\n",
        "\n",
        "\t# Returns the computed suffix array\n",
        "\treturn suffix_arr\n",
        "\n",
        "# Takes suffix array and its size as arguments\n",
        "# and returns the Burrows-Wheeler Transform of given text\n",
        "\n",
        "\n",
        "def find_last_char(input_text, suffix_arr, n):\n",
        "\t# Iterates over the suffix array to\n",
        "\t# find the last char of each cyclic rotation\n",
        "\tbwt_arr = \"\"\n",
        "\tfor i in range(n):\n",
        "\t\t# Computes the last char which is given by\n",
        "\t\t# input_text[(suffix_arr[i] + n - 1) % n]\n",
        "\t\tj = suffix_arr[i] - 1\n",
        "\t\tif j < 0:\n",
        "\t\t\tj = j + n\n",
        "\t\tbwt_arr += input_text[j]\n",
        "\n",
        "\t# Returns the computed Burrows-Wheeler Transform\n",
        "\treturn bwt_arr\n",
        "\n",
        "\n",
        "# Driver program to test functions above\n",
        "input_text = \"acaacg$\"\n",
        "len_text = len(input_text)\n",
        "\n",
        "# Computes the suffix array of our text\n",
        "suffix_arr = compute_suffix_array(input_text, len_text)\n",
        "\n",
        "# Adds to the output array the last char of each rotation\n",
        "bwt_arr = find_last_char(input_text, suffix_arr, len_text)\n",
        "\n",
        "print(\"Input text :\", input_text)\n",
        "print(\"Burrows - Wheeler Transform :\", bwt_arr)\n"
      ],
      "metadata": {
        "colab": {
          "base_uri": "https://localhost:8080/"
        },
        "id": "CkwrKI8diUrV",
        "outputId": "978c9e7e-f8f0-49c4-af5f-ed1417be4f53"
      },
      "execution_count": 1,
      "outputs": [
        {
          "output_type": "stream",
          "name": "stdout",
          "text": [
            "Input text : acaacg$\n",
            "Burrows - Wheeler Transform : gc$aaac\n"
          ]
        }
      ]
    },
    {
      "cell_type": "code",
      "source": [
        "def invert(bwt_arr):\n",
        "    len_bwt = len(bwt_arr)\n",
        "    sorted_bwt = sorted(bwt_arr)\n",
        "\n",
        "    # Construct the counting array to store the number of occurrences of each character\n",
        "    count = {}\n",
        "    for char in bwt_arr:\n",
        "        if char in count:\n",
        "            count[char] += 1\n",
        "        else:\n",
        "            count[char] = 1\n",
        "\n",
        "    # Construct the cumulative count array\n",
        "    cum_count = {}\n",
        "    prev = 0\n",
        "    for char, freq in sorted(count.items()):\n",
        "        cum_count[char] = prev\n",
        "        prev += freq\n",
        "\n",
        "    # Construct the LF mapping array\n",
        "    lf_mapping = {}\n",
        "    for i in range(len_bwt):\n",
        "        char = bwt_arr[i]\n",
        "        lf_mapping[i] = cum_count[char]\n",
        "        cum_count[char] += 1\n",
        "\n",
        "    # Find the index of the end-of-string marker '$' in the BWT\n",
        "    end_index = bwt_arr.index(\"$\")\n",
        "\n",
        "    # Invert the BWT starting from the end-of-string marker\n",
        "    decoded = [''] * len_bwt\n",
        "    index = end_index\n",
        "    for i in range(len_bwt):\n",
        "        decoded[len_bwt - 1 - i] = bwt_arr[index]\n",
        "        index = lf_mapping[index]\n",
        "\n",
        "    # Convert the decoded list to a string\n",
        "    decoded_str = ''.join(decoded)\n",
        "\n",
        "    print(\"Burrows - Wheeler Transform:\", bwt_arr)\n",
        "    print(\"Inverse of Burrows - Wheeler Transform:\", decoded_str)\n",
        "\n",
        "# Test the inversion function\n",
        "if __name__ == \"__main__\":\n",
        "    bwt_arr = \"gc$aaac\"\n",
        "    invert(bwt_arr)\n"
      ],
      "metadata": {
        "colab": {
          "base_uri": "https://localhost:8080/"
        },
        "id": "UzoVHevplk-M",
        "outputId": "c3a13735-6124-42dc-da90-eec4388db852"
      },
      "execution_count": 2,
      "outputs": [
        {
          "output_type": "stream",
          "name": "stdout",
          "text": [
            "Burrows - Wheeler Transform: gc$aaac\n",
            "Inverse of Burrows - Wheeler Transform: acaacg$\n"
          ]
        }
      ]
    },
    {
      "cell_type": "code",
      "source": [],
      "metadata": {
        "id": "hsoF_TWomnLp"
      },
      "execution_count": null,
      "outputs": []
    }
  ]
}